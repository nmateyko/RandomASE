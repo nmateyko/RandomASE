{
 "cells": [
  {
   "cell_type": "code",
   "execution_count": 1,
   "metadata": {},
   "outputs": [],
   "source": [
    "import numpy as np\n",
    "import pandas as pd\n",
    "import seaborn as sns"
   ]
  },
  {
   "cell_type": "markdown",
   "metadata": {},
   "source": [
    "Load data"
   ]
  },
  {
   "cell_type": "code",
   "execution_count": 2,
   "metadata": {},
   "outputs": [],
   "source": [
    "expression_df = pd.read_csv('data/GSE104878_20170811_average_promoter_ELs_per_seq_OLS_Glu_goodCores_ALL.txt.gz', sep=\"\\t\")\n",
    "scaffold_sequences = pd.read_csv('data/GSE104878_Scaffold_library_sequences.txt.gz', sep=\"\\t\")"
   ]
  },
  {
   "cell_type": "markdown",
   "metadata": {},
   "source": [
    "Check that dfs look correct."
   ]
  },
  {
   "cell_type": "code",
   "execution_count": 3,
   "metadata": {},
   "outputs": [
    {
     "data": {
      "text/html": [
       "<div>\n",
       "<style scoped>\n",
       "    .dataframe tbody tr th:only-of-type {\n",
       "        vertical-align: middle;\n",
       "    }\n",
       "\n",
       "    .dataframe tbody tr th {\n",
       "        vertical-align: top;\n",
       "    }\n",
       "\n",
       "    .dataframe thead th {\n",
       "        text-align: right;\n",
       "    }\n",
       "</style>\n",
       "<table border=\"1\" class=\"dataframe\">\n",
       "  <thead>\n",
       "    <tr style=\"text-align: right;\">\n",
       "      <th></th>\n",
       "      <th>ScaffoldName</th>\n",
       "      <th>DesignedSequence</th>\n",
       "    </tr>\n",
       "  </thead>\n",
       "  <tbody>\n",
       "    <tr>\n",
       "      <th>0</th>\n",
       "      <td>YAL001C</td>\n",
       "      <td>CTAATCAAGTGCTAGCTGTGACAAGACTTAAATCATTACATAAAAG...</td>\n",
       "    </tr>\n",
       "    <tr>\n",
       "      <th>1</th>\n",
       "      <td>YAL003W</td>\n",
       "      <td>CTAATCAAGTGCTAGCGCACACGTGCTTTATTTCTTTTTCTGAATT...</td>\n",
       "    </tr>\n",
       "    <tr>\n",
       "      <th>2</th>\n",
       "      <td>YAL005C</td>\n",
       "      <td>CTAATCAAGTGCTAGCTCTAGAAAGAAAGCACACGGAACGTTTAGA...</td>\n",
       "    </tr>\n",
       "    <tr>\n",
       "      <th>3</th>\n",
       "      <td>YAL007C</td>\n",
       "      <td>CTAATCAAGTGCTAGCACTTTAAATAATATTACAAATTGCTACAGC...</td>\n",
       "    </tr>\n",
       "    <tr>\n",
       "      <th>4</th>\n",
       "      <td>YAL008W</td>\n",
       "      <td>CTAATCAAGTGCTAGCCCAGGGAAGGTGCTAGAAGACGCAAACAAG...</td>\n",
       "    </tr>\n",
       "  </tbody>\n",
       "</table>\n",
       "</div>"
      ],
      "text/plain": [
       "  ScaffoldName                                   DesignedSequence\n",
       "0      YAL001C  CTAATCAAGTGCTAGCTGTGACAAGACTTAAATCATTACATAAAAG...\n",
       "1      YAL003W  CTAATCAAGTGCTAGCGCACACGTGCTTTATTTCTTTTTCTGAATT...\n",
       "2      YAL005C  CTAATCAAGTGCTAGCTCTAGAAAGAAAGCACACGGAACGTTTAGA...\n",
       "3      YAL007C  CTAATCAAGTGCTAGCACTTTAAATAATATTACAAATTGCTACAGC...\n",
       "4      YAL008W  CTAATCAAGTGCTAGCCCAGGGAAGGTGCTAGAAGACGCAAACAAG..."
      ]
     },
     "execution_count": 3,
     "metadata": {},
     "output_type": "execute_result"
    }
   ],
   "source": [
    "scaffold_sequences.head()"
   ]
  },
  {
   "cell_type": "code",
   "execution_count": 4,
   "metadata": {},
   "outputs": [
    {
     "data": {
      "text/html": [
       "<div>\n",
       "<style scoped>\n",
       "    .dataframe tbody tr th:only-of-type {\n",
       "        vertical-align: middle;\n",
       "    }\n",
       "\n",
       "    .dataframe tbody tr th {\n",
       "        vertical-align: top;\n",
       "    }\n",
       "\n",
       "    .dataframe thead th {\n",
       "        text-align: right;\n",
       "    }\n",
       "</style>\n",
       "<table border=\"1\" class=\"dataframe\">\n",
       "  <thead>\n",
       "    <tr style=\"text-align: right;\">\n",
       "      <th></th>\n",
       "      <th>ScaffoldID</th>\n",
       "      <th>ObservedSequence</th>\n",
       "      <th>Expression</th>\n",
       "      <th>ScaffoldName</th>\n",
       "      <th>ScaffoldType</th>\n",
       "    </tr>\n",
       "  </thead>\n",
       "  <tbody>\n",
       "    <tr>\n",
       "      <th>0</th>\n",
       "      <td>2</td>\n",
       "      <td>CTAATCAAGTGCTAGCAAAAAAAAAAAAAAAGAAAAAAAATATATA...</td>\n",
       "      <td>3.751825</td>\n",
       "      <td>YMR038C</td>\n",
       "      <td>native</td>\n",
       "    </tr>\n",
       "    <tr>\n",
       "      <th>1</th>\n",
       "      <td>2</td>\n",
       "      <td>CTAATCAAGTGCTAGCAAAAAAAAAAAAAGAAAAAAAATATATACT...</td>\n",
       "      <td>4.455292</td>\n",
       "      <td>YMR038C</td>\n",
       "      <td>native</td>\n",
       "    </tr>\n",
       "    <tr>\n",
       "      <th>2</th>\n",
       "      <td>2</td>\n",
       "      <td>CTAATCAAGTGCTAGCAAAAAAAAAAAAAAAGAAATAAAAATATAT...</td>\n",
       "      <td>3.751825</td>\n",
       "      <td>YMR038C</td>\n",
       "      <td>native</td>\n",
       "    </tr>\n",
       "    <tr>\n",
       "      <th>3</th>\n",
       "      <td>2</td>\n",
       "      <td>CTAATCAAGTGCTAGCAAAAAAAAAAAAAAAGAAATAAAAATATAT...</td>\n",
       "      <td>4.455292</td>\n",
       "      <td>YMR038C</td>\n",
       "      <td>native</td>\n",
       "    </tr>\n",
       "    <tr>\n",
       "      <th>4</th>\n",
       "      <td>2</td>\n",
       "      <td>CTAATCAAGTGCTAGCAAAAAAAAAAAAAAAGAAATAAAAATATAT...</td>\n",
       "      <td>3.751825</td>\n",
       "      <td>YMR038C</td>\n",
       "      <td>native</td>\n",
       "    </tr>\n",
       "  </tbody>\n",
       "</table>\n",
       "</div>"
      ],
      "text/plain": [
       "   ScaffoldID                                   ObservedSequence  Expression  \\\n",
       "0           2  CTAATCAAGTGCTAGCAAAAAAAAAAAAAAAGAAAAAAAATATATA...    3.751825   \n",
       "1           2  CTAATCAAGTGCTAGCAAAAAAAAAAAAAGAAAAAAAATATATACT...    4.455292   \n",
       "2           2  CTAATCAAGTGCTAGCAAAAAAAAAAAAAAAGAAATAAAAATATAT...    3.751825   \n",
       "3           2  CTAATCAAGTGCTAGCAAAAAAAAAAAAAAAGAAATAAAAATATAT...    4.455292   \n",
       "4           2  CTAATCAAGTGCTAGCAAAAAAAAAAAAAAAGAAATAAAAATATAT...    3.751825   \n",
       "\n",
       "  ScaffoldName ScaffoldType  \n",
       "0      YMR038C       native  \n",
       "1      YMR038C       native  \n",
       "2      YMR038C       native  \n",
       "3      YMR038C       native  \n",
       "4      YMR038C       native  "
      ]
     },
     "execution_count": 4,
     "metadata": {},
     "output_type": "execute_result"
    }
   ],
   "source": [
    "expression_df.head()"
   ]
  },
  {
   "cell_type": "markdown",
   "metadata": {},
   "source": [
    "Group by scaffold name and calculate statistics."
   ]
  },
  {
   "cell_type": "code",
   "execution_count": 5,
   "metadata": {},
   "outputs": [
    {
     "data": {
      "text/html": [
       "<div>\n",
       "<style scoped>\n",
       "    .dataframe tbody tr th:only-of-type {\n",
       "        vertical-align: middle;\n",
       "    }\n",
       "\n",
       "    .dataframe tbody tr th {\n",
       "        vertical-align: top;\n",
       "    }\n",
       "\n",
       "    .dataframe thead th {\n",
       "        text-align: right;\n",
       "    }\n",
       "</style>\n",
       "<table border=\"1\" class=\"dataframe\">\n",
       "  <thead>\n",
       "    <tr style=\"text-align: right;\">\n",
       "      <th></th>\n",
       "      <th>mean</th>\n",
       "      <th>stdev</th>\n",
       "      <th>reads</th>\n",
       "    </tr>\n",
       "    <tr>\n",
       "      <th>ScaffoldName</th>\n",
       "      <th></th>\n",
       "      <th></th>\n",
       "      <th></th>\n",
       "    </tr>\n",
       "  </thead>\n",
       "  <tbody>\n",
       "    <tr>\n",
       "      <th>Blank_0</th>\n",
       "      <td>0.943999</td>\n",
       "      <td>1.010541</td>\n",
       "      <td>2335.0</td>\n",
       "    </tr>\n",
       "    <tr>\n",
       "      <th>Blank_1</th>\n",
       "      <td>1.579654</td>\n",
       "      <td>1.291183</td>\n",
       "      <td>1669.0</td>\n",
       "    </tr>\n",
       "    <tr>\n",
       "      <th>Blank_2</th>\n",
       "      <td>1.596434</td>\n",
       "      <td>1.105018</td>\n",
       "      <td>969.0</td>\n",
       "    </tr>\n",
       "    <tr>\n",
       "      <th>Blank_3</th>\n",
       "      <td>1.640840</td>\n",
       "      <td>1.213817</td>\n",
       "      <td>4219.0</td>\n",
       "    </tr>\n",
       "    <tr>\n",
       "      <th>Blank_4</th>\n",
       "      <td>1.666120</td>\n",
       "      <td>1.280006</td>\n",
       "      <td>1323.0</td>\n",
       "    </tr>\n",
       "  </tbody>\n",
       "</table>\n",
       "</div>"
      ],
      "text/plain": [
       "                  mean     stdev   reads\n",
       "ScaffoldName                            \n",
       "Blank_0       0.943999  1.010541  2335.0\n",
       "Blank_1       1.579654  1.291183  1669.0\n",
       "Blank_2       1.596434  1.105018   969.0\n",
       "Blank_3       1.640840  1.213817  4219.0\n",
       "Blank_4       1.666120  1.280006  1323.0"
      ]
     },
     "execution_count": 5,
     "metadata": {},
     "output_type": "execute_result"
    }
   ],
   "source": [
    "def f(df):\n",
    "  return pd.Series({\n",
    "    'mean': np.mean(df['Expression']),\n",
    "    'stdev': np.std(df['Expression']),\n",
    "    'reads': len(df['Expression']),\n",
    "  })\n",
    "\n",
    "grouped = expression_df.groupby('ScaffoldName').apply(f)\n",
    "grouped.head()"
   ]
  },
  {
   "cell_type": "markdown",
   "metadata": {},
   "source": [
    "Merge to include designed scaffold sequence."
   ]
  },
  {
   "cell_type": "code",
   "execution_count": 6,
   "metadata": {},
   "outputs": [
    {
     "data": {
      "text/html": [
       "<div>\n",
       "<style scoped>\n",
       "    .dataframe tbody tr th:only-of-type {\n",
       "        vertical-align: middle;\n",
       "    }\n",
       "\n",
       "    .dataframe tbody tr th {\n",
       "        vertical-align: top;\n",
       "    }\n",
       "\n",
       "    .dataframe thead th {\n",
       "        text-align: right;\n",
       "    }\n",
       "</style>\n",
       "<table border=\"1\" class=\"dataframe\">\n",
       "  <thead>\n",
       "    <tr style=\"text-align: right;\">\n",
       "      <th></th>\n",
       "      <th>ScaffoldName</th>\n",
       "      <th>mean</th>\n",
       "      <th>stdev</th>\n",
       "      <th>reads</th>\n",
       "      <th>DesignedSequence</th>\n",
       "    </tr>\n",
       "  </thead>\n",
       "  <tbody>\n",
       "    <tr>\n",
       "      <th>0</th>\n",
       "      <td>Blank_0</td>\n",
       "      <td>0.943999</td>\n",
       "      <td>1.010541</td>\n",
       "      <td>2335.0</td>\n",
       "      <td>CTAATCAAGTGCTAGCCTTGCCCTCACGTGGCATCCGATGGATTAC...</td>\n",
       "    </tr>\n",
       "    <tr>\n",
       "      <th>1</th>\n",
       "      <td>Blank_1</td>\n",
       "      <td>1.579654</td>\n",
       "      <td>1.291183</td>\n",
       "      <td>1669.0</td>\n",
       "      <td>CTAATCAAGTGCTAGCAAGTAGTTCAGGCCAATGCTATCCATACTA...</td>\n",
       "    </tr>\n",
       "    <tr>\n",
       "      <th>2</th>\n",
       "      <td>Blank_2</td>\n",
       "      <td>1.596434</td>\n",
       "      <td>1.105018</td>\n",
       "      <td>969.0</td>\n",
       "      <td>CTAATCAAGTGCTAGCCCCCTTACCAGGAACCACCTGATGAATTGT...</td>\n",
       "    </tr>\n",
       "    <tr>\n",
       "      <th>3</th>\n",
       "      <td>Blank_3</td>\n",
       "      <td>1.640840</td>\n",
       "      <td>1.213817</td>\n",
       "      <td>4219.0</td>\n",
       "      <td>CTAATCAAGTGCTAGCTTTTCAGTACGAATTTGGGTTAGAAACGGG...</td>\n",
       "    </tr>\n",
       "    <tr>\n",
       "      <th>4</th>\n",
       "      <td>Blank_4</td>\n",
       "      <td>1.666120</td>\n",
       "      <td>1.280006</td>\n",
       "      <td>1323.0</td>\n",
       "      <td>CTAATCAAGTGCTAGCTGTCCTGACACCTTCGGTGGATTGACACTA...</td>\n",
       "    </tr>\n",
       "  </tbody>\n",
       "</table>\n",
       "</div>"
      ],
      "text/plain": [
       "  ScaffoldName      mean     stdev   reads  \\\n",
       "0      Blank_0  0.943999  1.010541  2335.0   \n",
       "1      Blank_1  1.579654  1.291183  1669.0   \n",
       "2      Blank_2  1.596434  1.105018   969.0   \n",
       "3      Blank_3  1.640840  1.213817  4219.0   \n",
       "4      Blank_4  1.666120  1.280006  1323.0   \n",
       "\n",
       "                                    DesignedSequence  \n",
       "0  CTAATCAAGTGCTAGCCTTGCCCTCACGTGGCATCCGATGGATTAC...  \n",
       "1  CTAATCAAGTGCTAGCAAGTAGTTCAGGCCAATGCTATCCATACTA...  \n",
       "2  CTAATCAAGTGCTAGCCCCCTTACCAGGAACCACCTGATGAATTGT...  \n",
       "3  CTAATCAAGTGCTAGCTTTTCAGTACGAATTTGGGTTAGAAACGGG...  \n",
       "4  CTAATCAAGTGCTAGCTGTCCTGACACCTTCGGTGGATTGACACTA...  "
      ]
     },
     "execution_count": 6,
     "metadata": {},
     "output_type": "execute_result"
    }
   ],
   "source": [
    "grouped = grouped.merge(scaffold_sequences, on='ScaffoldName')\n",
    "grouped.head()"
   ]
  },
  {
   "cell_type": "code",
   "execution_count": 7,
   "metadata": {},
   "outputs": [
    {
     "data": {
      "text/plain": [
       "<AxesSubplot:xlabel='mean', ylabel='stdev'>"
      ]
     },
     "execution_count": 7,
     "metadata": {},
     "output_type": "execute_result"
    },
    {
     "data": {
      "image/png": "[encoded data removed]",
      "text/plain": [
       "<Figure size 432x288 with 1 Axes>"
      ]
     },
     "metadata": {
      "needs_background": "light"
     },
     "output_type": "display_data"
    }
   ],
   "source": [
    "sns.scatterplot(data=grouped, x='mean', y='stdev', hue='reads')"
   ]
  },
  {
   "cell_type": "markdown",
   "metadata": {},
   "source": [
    "We ideally want something with both high mean expression for a strong signal, but also high standard deviation so that the effect of only a few mutations in the random promoter region can be measured. Choose anything with a mean > 5, then sort by standard deviation."
   ]
  },
  {
   "cell_type": "code",
   "execution_count": 8,
   "metadata": {},
   "outputs": [],
   "source": [
    "high_mean_sorted_stddev = grouped[(grouped['mean'] > 5) & (grouped['reads'] > 200)].sort_values('stdev', ascending=False)"
   ]
  },
  {
   "cell_type": "code",
   "execution_count": 9,
   "metadata": {},
   "outputs": [],
   "source": [
    "high_stdev_names= high_mean_sorted_stddev['ScaffoldName'][:20]"
   ]
  },
  {
   "cell_type": "code",
   "execution_count": 10,
   "metadata": {},
   "outputs": [
    {
     "data": {
      "text/html": [
       "<div>\n",
       "<style scoped>\n",
       "    .dataframe tbody tr th:only-of-type {\n",
       "        vertical-align: middle;\n",
       "    }\n",
       "\n",
       "    .dataframe tbody tr th {\n",
       "        vertical-align: top;\n",
       "    }\n",
       "\n",
       "    .dataframe thead th {\n",
       "        text-align: right;\n",
       "    }\n",
       "</style>\n",
       "<table border=\"1\" class=\"dataframe\">\n",
       "  <thead>\n",
       "    <tr style=\"text-align: right;\">\n",
       "      <th></th>\n",
       "      <th>ScaffoldName</th>\n",
       "      <th>mean</th>\n",
       "      <th>stdev</th>\n",
       "      <th>reads</th>\n",
       "      <th>DesignedSequence</th>\n",
       "    </tr>\n",
       "  </thead>\n",
       "  <tbody>\n",
       "    <tr>\n",
       "      <th>8427</th>\n",
       "      <td>YPL187W</td>\n",
       "      <td>5.399267</td>\n",
       "      <td>2.511855</td>\n",
       "      <td>452.0</td>\n",
       "      <td>CTAATCAAGTGCTAGCACATCTGTATTCCTTTTTTTTATGAACACC...</td>\n",
       "    </tr>\n",
       "    <tr>\n",
       "      <th>6823</th>\n",
       "      <td>YLR061W</td>\n",
       "      <td>5.551104</td>\n",
       "      <td>1.591931</td>\n",
       "      <td>304.0</td>\n",
       "      <td>CTAATCAAGTGCTAGCTACTACCGCTACTGAGTAAATGTTTAGCTT...</td>\n",
       "    </tr>\n",
       "    <tr>\n",
       "      <th>4263</th>\n",
       "      <td>YCR005C</td>\n",
       "      <td>5.519091</td>\n",
       "      <td>1.470494</td>\n",
       "      <td>255.0</td>\n",
       "      <td>CTAATCAAGTGCTAGCGAAGAGGTCACGACCTATTTTTTCTTGCAG...</td>\n",
       "    </tr>\n",
       "    <tr>\n",
       "      <th>4258</th>\n",
       "      <td>YCL064C</td>\n",
       "      <td>5.246384</td>\n",
       "      <td>1.418914</td>\n",
       "      <td>226.0</td>\n",
       "      <td>CTAATCAAGTGCTAGCTTCCTACTATTTTTCTTTTTCTCTTTTCGC...</td>\n",
       "    </tr>\n",
       "    <tr>\n",
       "      <th>4456</th>\n",
       "      <td>YDL136W</td>\n",
       "      <td>5.012820</td>\n",
       "      <td>1.391879</td>\n",
       "      <td>809.0</td>\n",
       "      <td>CTAATCAAGTGCTAGCCCACTACTATATGAAAAAATGAAAAGAGGC...</td>\n",
       "    </tr>\n",
       "    <tr>\n",
       "      <th>3968</th>\n",
       "      <td>YBR010W</td>\n",
       "      <td>5.047443</td>\n",
       "      <td>1.372582</td>\n",
       "      <td>519.0</td>\n",
       "      <td>CTAATCAAGTGCTAGCCGGGGAGATACAAAAAAGATTTTTGCTCTC...</td>\n",
       "    </tr>\n",
       "    <tr>\n",
       "      <th>7832</th>\n",
       "      <td>YNR067C</td>\n",
       "      <td>5.566307</td>\n",
       "      <td>1.337148</td>\n",
       "      <td>242.0</td>\n",
       "      <td>CTAATCAAGTGCTAGCTTGTTACCGAGTTCAGCTGCGCTAAGCTCT...</td>\n",
       "    </tr>\n",
       "    <tr>\n",
       "      <th>7046</th>\n",
       "      <td>YLR355C</td>\n",
       "      <td>5.611197</td>\n",
       "      <td>1.330533</td>\n",
       "      <td>352.0</td>\n",
       "      <td>CTAATCAAGTGCTAGCCGGTTCTGCCACCTCCAATAGAGCTCAGTA...</td>\n",
       "    </tr>\n",
       "    <tr>\n",
       "      <th>6902</th>\n",
       "      <td>YLR167W</td>\n",
       "      <td>5.714055</td>\n",
       "      <td>1.306484</td>\n",
       "      <td>553.0</td>\n",
       "      <td>CTAATCAAGTGCTAGCAATAGTGGTGAAGTCTTTAGTGCGATCTAC...</td>\n",
       "    </tr>\n",
       "    <tr>\n",
       "      <th>7316</th>\n",
       "      <td>YMR102C</td>\n",
       "      <td>5.165381</td>\n",
       "      <td>1.304632</td>\n",
       "      <td>616.0</td>\n",
       "      <td>CTAATCAAGTGCTAGCGAGCAGCTTATTTCTTCCGCGGATGATCCT...</td>\n",
       "    </tr>\n",
       "    <tr>\n",
       "      <th>5952</th>\n",
       "      <td>YHR179W</td>\n",
       "      <td>5.031651</td>\n",
       "      <td>1.278883</td>\n",
       "      <td>952.0</td>\n",
       "      <td>CTAATCAAGTGCTAGCTGTGCTTAGTAAAGCAAAACGGAGTAGAAT...</td>\n",
       "    </tr>\n",
       "    <tr>\n",
       "      <th>6721</th>\n",
       "      <td>YKR094C</td>\n",
       "      <td>5.272013</td>\n",
       "      <td>1.263053</td>\n",
       "      <td>1460.0</td>\n",
       "      <td>CTAATCAAGTGCTAGCTCGGAGGCCATATCATCTTTCGACAATCCT...</td>\n",
       "    </tr>\n",
       "    <tr>\n",
       "      <th>3858</th>\n",
       "      <td>YAL062W</td>\n",
       "      <td>5.426050</td>\n",
       "      <td>1.241651</td>\n",
       "      <td>562.0</td>\n",
       "      <td>CTAATCAAGTGCTAGCAAACGCTTTCAAAGTTTTCTTCTATAAACA...</td>\n",
       "    </tr>\n",
       "    <tr>\n",
       "      <th>5344</th>\n",
       "      <td>YGL030W</td>\n",
       "      <td>5.147956</td>\n",
       "      <td>1.210202</td>\n",
       "      <td>665.0</td>\n",
       "      <td>CTAATCAAGTGCTAGCAGATGTAACGTTCCAAAATGTATGGATGGT...</td>\n",
       "    </tr>\n",
       "    <tr>\n",
       "      <th>6541</th>\n",
       "      <td>YKL096W-A</td>\n",
       "      <td>5.044411</td>\n",
       "      <td>1.203006</td>\n",
       "      <td>444.0</td>\n",
       "      <td>CTAATCAAGTGCTAGCCCCACTACCCTAGAAATTGCGGAAATTTCG...</td>\n",
       "    </tr>\n",
       "    <tr>\n",
       "      <th>6819</th>\n",
       "      <td>YLR056W</td>\n",
       "      <td>5.314399</td>\n",
       "      <td>1.187797</td>\n",
       "      <td>586.0</td>\n",
       "      <td>CTAATCAAGTGCTAGCCATTATTTCGGTCGTTTAGTTGCGCCCCAG...</td>\n",
       "    </tr>\n",
       "    <tr>\n",
       "      <th>5569</th>\n",
       "      <td>YGR060W</td>\n",
       "      <td>5.007244</td>\n",
       "      <td>1.103595</td>\n",
       "      <td>1751.0</td>\n",
       "      <td>CTAATCAAGTGCTAGCGTCGAGGAAGAGGCCCTTTGCCACCGTATC...</td>\n",
       "    </tr>\n",
       "    <tr>\n",
       "      <th>8362</th>\n",
       "      <td>YPL111W</td>\n",
       "      <td>5.459686</td>\n",
       "      <td>1.094802</td>\n",
       "      <td>328.0</td>\n",
       "      <td>CTAATCAAGTGCTAGCATCCCCGCCCTTTGATTGCTCCTTCCATTA...</td>\n",
       "    </tr>\n",
       "    <tr>\n",
       "      <th>7246</th>\n",
       "      <td>YMR011W</td>\n",
       "      <td>5.537941</td>\n",
       "      <td>1.072631</td>\n",
       "      <td>523.0</td>\n",
       "      <td>CTAATCAAGTGCTAGCCCATCATTTTAGTTTTTCGCAAGCCATGCG...</td>\n",
       "    </tr>\n",
       "    <tr>\n",
       "      <th>4924</th>\n",
       "      <td>YDR451C</td>\n",
       "      <td>5.746273</td>\n",
       "      <td>1.053506</td>\n",
       "      <td>429.0</td>\n",
       "      <td>CTAATCAAGTGCTAGCTTTCGGCTATAAACCACGTCCTAATTTGGA...</td>\n",
       "    </tr>\n",
       "  </tbody>\n",
       "</table>\n",
       "</div>"
      ],
      "text/plain": [
       "     ScaffoldName      mean     stdev   reads  \\\n",
       "8427      YPL187W  5.399267  2.511855   452.0   \n",
       "6823      YLR061W  5.551104  1.591931   304.0   \n",
       "4263      YCR005C  5.519091  1.470494   255.0   \n",
       "4258      YCL064C  5.246384  1.418914   226.0   \n",
       "4456      YDL136W  5.012820  1.391879   809.0   \n",
       "3968      YBR010W  5.047443  1.372582   519.0   \n",
       "7832      YNR067C  5.566307  1.337148   242.0   \n",
       "7046      YLR355C  5.611197  1.330533   352.0   \n",
       "6902      YLR167W  5.714055  1.306484   553.0   \n",
       "7316      YMR102C  5.165381  1.304632   616.0   \n",
       "5952      YHR179W  5.031651  1.278883   952.0   \n",
       "6721      YKR094C  5.272013  1.263053  1460.0   \n",
       "3858      YAL062W  5.426050  1.241651   562.0   \n",
       "5344      YGL030W  5.147956  1.210202   665.0   \n",
       "6541    YKL096W-A  5.044411  1.203006   444.0   \n",
       "6819      YLR056W  5.314399  1.187797   586.0   \n",
       "5569      YGR060W  5.007244  1.103595  1751.0   \n",
       "8362      YPL111W  5.459686  1.094802   328.0   \n",
       "7246      YMR011W  5.537941  1.072631   523.0   \n",
       "4924      YDR451C  5.746273  1.053506   429.0   \n",
       "\n",
       "                                       DesignedSequence  \n",
       "8427  CTAATCAAGTGCTAGCACATCTGTATTCCTTTTTTTTATGAACACC...  \n",
       "6823  CTAATCAAGTGCTAGCTACTACCGCTACTGAGTAAATGTTTAGCTT...  \n",
       "4263  CTAATCAAGTGCTAGCGAAGAGGTCACGACCTATTTTTTCTTGCAG...  \n",
       "4258  CTAATCAAGTGCTAGCTTCCTACTATTTTTCTTTTTCTCTTTTCGC...  \n",
       "4456  CTAATCAAGTGCTAGCCCACTACTATATGAAAAAATGAAAAGAGGC...  \n",
       "3968  CTAATCAAGTGCTAGCCGGGGAGATACAAAAAAGATTTTTGCTCTC...  \n",
       "7832  CTAATCAAGTGCTAGCTTGTTACCGAGTTCAGCTGCGCTAAGCTCT...  \n",
       "7046  CTAATCAAGTGCTAGCCGGTTCTGCCACCTCCAATAGAGCTCAGTA...  \n",
       "6902  CTAATCAAGTGCTAGCAATAGTGGTGAAGTCTTTAGTGCGATCTAC...  \n",
       "7316  CTAATCAAGTGCTAGCGAGCAGCTTATTTCTTCCGCGGATGATCCT...  \n",
       "5952  CTAATCAAGTGCTAGCTGTGCTTAGTAAAGCAAAACGGAGTAGAAT...  \n",
       "6721  CTAATCAAGTGCTAGCTCGGAGGCCATATCATCTTTCGACAATCCT...  \n",
       "3858  CTAATCAAGTGCTAGCAAACGCTTTCAAAGTTTTCTTCTATAAACA...  \n",
       "5344  CTAATCAAGTGCTAGCAGATGTAACGTTCCAAAATGTATGGATGGT...  \n",
       "6541  CTAATCAAGTGCTAGCCCCACTACCCTAGAAATTGCGGAAATTTCG...  \n",
       "6819  CTAATCAAGTGCTAGCCATTATTTCGGTCGTTTAGTTGCGCCCCAG...  \n",
       "5569  CTAATCAAGTGCTAGCGTCGAGGAAGAGGCCCTTTGCCACCGTATC...  \n",
       "8362  CTAATCAAGTGCTAGCATCCCCGCCCTTTGATTGCTCCTTCCATTA...  \n",
       "7246  CTAATCAAGTGCTAGCCCATCATTTTAGTTTTTCGCAAGCCATGCG...  \n",
       "4924  CTAATCAAGTGCTAGCTTTCGGCTATAAACCACGTCCTAATTTGGA...  "
      ]
     },
     "execution_count": 10,
     "metadata": {},
     "output_type": "execute_result"
    }
   ],
   "source": [
    "high_mean_sorted_stddev[:20]"
   ]
  },
  {
   "cell_type": "code",
   "execution_count": 11,
   "metadata": {},
   "outputs": [
    {
     "data": {
      "text/plain": [
       "<seaborn.axisgrid.FacetGrid at 0x1c0006401f0>"
      ]
     },
     "execution_count": 11,
     "metadata": {},
     "output_type": "execute_result"
    },
    {
     "data": {
      "image/png": "[encoded data removed]",
      "text/plain": [
       "<Figure size 1080x864 with 20 Axes>"
      ]
     },
     "metadata": {
      "needs_background": "light"
     },
     "output_type": "display_data"
    }
   ],
   "source": [
    "g = sns.FacetGrid(expression_df, col=\"ScaffoldName\", col_order=high_stdev_names, col_wrap=5)\n",
    "g.map(sns.histplot, \"Expression\")"
   ]
  },
  {
   "cell_type": "markdown",
   "metadata": {},
   "source": [
    "It looks like all of the high expression scaffolds are from the yeast genome. The one outlier with very high stdev (YPL187W) has bimodal expression so this would be a bad choice. YBR010W distribution looks good; it is the promoter for histone H3, which seems like a good choice (housekeeping gene). Get the full promoter sequence:"
   ]
  },
  {
   "cell_type": "code",
   "execution_count": 12,
   "metadata": {},
   "outputs": [
    {
     "data": {
      "text/plain": [
       "'CTAATCAAGTGCTAGCCGGGGAGATACAAAAAAGATTTTTGCTCTCGTTCTCACATTTTCGCATTGTCCCATACATTATCGTTCTCACAATTTCTCACATTTCCTTGCTCTGCACCTTTCTCGACNNNNNNNNNNNNNNNNNNNNNNNNNNNNNNNNNNNNNNNNNNNNNNNNNNNNNNNNNNNNNNNNNNNNNNNNNNNNNNNNCCTAGGCTTGTTGAAATACATATATAAAAGACTGTGTATTCTTCGGGATACATCTCTTTCCTCAACCTTTTATATTGGATCCTGAGCAG'"
      ]
     },
     "execution_count": 12,
     "metadata": {},
     "output_type": "execute_result"
    }
   ],
   "source": [
    "grouped[grouped[\"ScaffoldName\"] == \"YBR010W\"]['DesignedSequence'].item()"
   ]
  },
  {
   "cell_type": "code",
   "execution_count": 13,
   "metadata": {},
   "outputs": [
    {
     "data": {
      "text/plain": [
       "array([[<AxesSubplot:title={'center':'Expression'}>]], dtype=object)"
      ]
     },
     "execution_count": 13,
     "metadata": {},
     "output_type": "execute_result"
    },
    {
     "data": {
      "image/png": "[encoded data removed]",
      "text/plain": [
       "<Figure size 432x288 with 1 Axes>"
      ]
     },
     "metadata": {
      "needs_background": "light"
     },
     "output_type": "display_data"
    }
   ],
   "source": [
    "expression_df[expression_df[\"ScaffoldName\"] == \"YBR010W\"].hist(\"Expression\", bins=20)"
   ]
  },
  {
   "cell_type": "markdown",
   "metadata": {},
   "source": [
    "BLASTed the sequence and it matches the HHT1 (histone H3) promoter."
   ]
  },
  {
   "cell_type": "markdown",
   "metadata": {},
   "source": [
    "Using a native yeast promoter for the scaffold could potentially lead to recombination or some other issue we haven't thought about, so we'll also use a random promoter scaffold. Find the random promoter scaffolds with mean expression > 4 and sort by standard deviation:"
   ]
  },
  {
   "cell_type": "code",
   "execution_count": 14,
   "metadata": {},
   "outputs": [],
   "source": [
    "high_mean_sorted_stddev_random = grouped[(grouped['mean'] > 4) & (grouped['reads'] > 200) & (grouped['ScaffoldName'].astype(str).str[:4] == 'Pure')].sort_values('stdev', ascending=False)"
   ]
  },
  {
   "cell_type": "code",
   "execution_count": 15,
   "metadata": {},
   "outputs": [
    {
     "data": {
      "text/html": [
       "<div>\n",
       "<style scoped>\n",
       "    .dataframe tbody tr th:only-of-type {\n",
       "        vertical-align: middle;\n",
       "    }\n",
       "\n",
       "    .dataframe tbody tr th {\n",
       "        vertical-align: top;\n",
       "    }\n",
       "\n",
       "    .dataframe thead th {\n",
       "        text-align: right;\n",
       "    }\n",
       "</style>\n",
       "<table border=\"1\" class=\"dataframe\">\n",
       "  <thead>\n",
       "    <tr style=\"text-align: right;\">\n",
       "      <th></th>\n",
       "      <th>ScaffoldName</th>\n",
       "      <th>mean</th>\n",
       "      <th>stdev</th>\n",
       "      <th>reads</th>\n",
       "      <th>DesignedSequence</th>\n",
       "    </tr>\n",
       "  </thead>\n",
       "  <tbody>\n",
       "    <tr>\n",
       "      <th>3262</th>\n",
       "      <td>PureRand501</td>\n",
       "      <td>4.441250</td>\n",
       "      <td>1.154499</td>\n",
       "      <td>650.0</td>\n",
       "      <td>CTAATCAAGTGCTAGCCCTTAGATCATTTATCAGGAATTGCGGCAA...</td>\n",
       "    </tr>\n",
       "    <tr>\n",
       "      <th>1699</th>\n",
       "      <td>PureRand2536</td>\n",
       "      <td>4.439103</td>\n",
       "      <td>1.149573</td>\n",
       "      <td>492.0</td>\n",
       "      <td>CTAATCAAGTGCTAGCCCGCAATTTTCTGTTTATTTACTACTCATA...</td>\n",
       "    </tr>\n",
       "    <tr>\n",
       "      <th>481</th>\n",
       "      <td>PureRand143</td>\n",
       "      <td>4.229624</td>\n",
       "      <td>1.074104</td>\n",
       "      <td>687.0</td>\n",
       "      <td>CTAATCAAGTGCTAGCACATTACGTAGTAGAGCCATTTGGTCTCTC...</td>\n",
       "    </tr>\n",
       "    <tr>\n",
       "      <th>2583</th>\n",
       "      <td>PureRand3339</td>\n",
       "      <td>4.174636</td>\n",
       "      <td>1.062666</td>\n",
       "      <td>828.0</td>\n",
       "      <td>CTAATCAAGTGCTAGCCCCATCAGGTATTAGAGTCGCTTGCTTACC...</td>\n",
       "    </tr>\n",
       "    <tr>\n",
       "      <th>602</th>\n",
       "      <td>PureRand154</td>\n",
       "      <td>4.081721</td>\n",
       "      <td>0.994539</td>\n",
       "      <td>561.0</td>\n",
       "      <td>CTAATCAAGTGCTAGCCACCGCACTAAAAATGTCGGCACTCCGGCT...</td>\n",
       "    </tr>\n",
       "    <tr>\n",
       "      <th>2869</th>\n",
       "      <td>PureRand3598</td>\n",
       "      <td>4.022757</td>\n",
       "      <td>0.912212</td>\n",
       "      <td>258.0</td>\n",
       "      <td>CTAATCAAGTGCTAGCGAGCACGTACGAATCTGAGGTCATATTCTC...</td>\n",
       "    </tr>\n",
       "    <tr>\n",
       "      <th>3199</th>\n",
       "      <td>PureRand445</td>\n",
       "      <td>4.100991</td>\n",
       "      <td>0.836775</td>\n",
       "      <td>394.0</td>\n",
       "      <td>CTAATCAAGTGCTAGCTCTTCTTGAGTGATATATCATTCCATACTC...</td>\n",
       "    </tr>\n",
       "    <tr>\n",
       "      <th>2323</th>\n",
       "      <td>PureRand3100</td>\n",
       "      <td>4.377717</td>\n",
       "      <td>0.824651</td>\n",
       "      <td>390.0</td>\n",
       "      <td>CTAATCAAGTGCTAGCTGAAATTTTATCTTGTTTTCATTAAACTTC...</td>\n",
       "    </tr>\n",
       "    <tr>\n",
       "      <th>384</th>\n",
       "      <td>PureRand1341</td>\n",
       "      <td>4.005374</td>\n",
       "      <td>0.777830</td>\n",
       "      <td>307.0</td>\n",
       "      <td>CTAATCAAGTGCTAGCATCTTCGGTTTCCATTCAAATCGGGTTATG...</td>\n",
       "    </tr>\n",
       "    <tr>\n",
       "      <th>3368</th>\n",
       "      <td>PureRand599</td>\n",
       "      <td>4.806975</td>\n",
       "      <td>0.768238</td>\n",
       "      <td>283.0</td>\n",
       "      <td>CTAATCAAGTGCTAGCACAGACTGGCAGAAGCCCTTAAAATTTTAA...</td>\n",
       "    </tr>\n",
       "  </tbody>\n",
       "</table>\n",
       "</div>"
      ],
      "text/plain": [
       "      ScaffoldName      mean     stdev  reads  \\\n",
       "3262   PureRand501  4.441250  1.154499  650.0   \n",
       "1699  PureRand2536  4.439103  1.149573  492.0   \n",
       "481    PureRand143  4.229624  1.074104  687.0   \n",
       "2583  PureRand3339  4.174636  1.062666  828.0   \n",
       "602    PureRand154  4.081721  0.994539  561.0   \n",
       "2869  PureRand3598  4.022757  0.912212  258.0   \n",
       "3199   PureRand445  4.100991  0.836775  394.0   \n",
       "2323  PureRand3100  4.377717  0.824651  390.0   \n",
       "384   PureRand1341  4.005374  0.777830  307.0   \n",
       "3368   PureRand599  4.806975  0.768238  283.0   \n",
       "\n",
       "                                       DesignedSequence  \n",
       "3262  CTAATCAAGTGCTAGCCCTTAGATCATTTATCAGGAATTGCGGCAA...  \n",
       "1699  CTAATCAAGTGCTAGCCCGCAATTTTCTGTTTATTTACTACTCATA...  \n",
       "481   CTAATCAAGTGCTAGCACATTACGTAGTAGAGCCATTTGGTCTCTC...  \n",
       "2583  CTAATCAAGTGCTAGCCCCATCAGGTATTAGAGTCGCTTGCTTACC...  \n",
       "602   CTAATCAAGTGCTAGCCACCGCACTAAAAATGTCGGCACTCCGGCT...  \n",
       "2869  CTAATCAAGTGCTAGCGAGCACGTACGAATCTGAGGTCATATTCTC...  \n",
       "3199  CTAATCAAGTGCTAGCTCTTCTTGAGTGATATATCATTCCATACTC...  \n",
       "2323  CTAATCAAGTGCTAGCTGAAATTTTATCTTGTTTTCATTAAACTTC...  \n",
       "384   CTAATCAAGTGCTAGCATCTTCGGTTTCCATTCAAATCGGGTTATG...  \n",
       "3368  CTAATCAAGTGCTAGCACAGACTGGCAGAAGCCCTTAAAATTTTAA...  "
      ]
     },
     "execution_count": 15,
     "metadata": {},
     "output_type": "execute_result"
    }
   ],
   "source": [
    "high_mean_sorted_stddev_random[:20]"
   ]
  },
  {
   "cell_type": "code",
   "execution_count": 16,
   "metadata": {},
   "outputs": [
    {
     "data": {
      "text/plain": [
       "<seaborn.axisgrid.FacetGrid at 0x1c00ca79570>"
      ]
     },
     "execution_count": 16,
     "metadata": {},
     "output_type": "execute_result"
    },
    {
     "data": {
      "image/png": "[encoded data removed]",
      "text/plain": [
       "<Figure size 1080x432 with 10 Axes>"
      ]
     },
     "metadata": {
      "needs_background": "light"
     },
     "output_type": "display_data"
    }
   ],
   "source": [
    "random_names = high_mean_sorted_stddev_random['ScaffoldName'][:20]\n",
    "g = sns.FacetGrid(expression_df, col=\"ScaffoldName\", col_order=random_names, col_wrap=5)\n",
    "g.map(sns.histplot, \"Expression\")"
   ]
  },
  {
   "cell_type": "markdown",
   "metadata": {},
   "source": [
    "PureRand501 looks like the best tradeoff between mean and stdev and it has a relatively symmetric distribution. Get the full scaffold sequence:"
   ]
  },
  {
   "cell_type": "code",
   "execution_count": 17,
   "metadata": {},
   "outputs": [
    {
     "data": {
      "text/plain": [
       "'CTAATCAAGTGCTAGCCCTTAGATCATTTATCAGGAATTGCGGCAAAGTATAATTTTTTCACTACTAAAACAGATAAGGAATACGCGAAAACCGTGTGATAAGGCAACCTGTGCGCGTTCTCGACNNNNNNNNNNNNNNNNNNNNNNNNNNNNNNNNNNNNNNNNNNNNNNNNNNNNNNNNNNNNNNNNNNNNNNNNNNNNNNNNCCTAGGGTGGGATCATACATACATAAACCTACAAGAGATTCGCATTCATGCTGAAAAAACATTGTTAAACGTCCAAGGATCCTGAGCAG'"
      ]
     },
     "execution_count": 17,
     "metadata": {},
     "output_type": "execute_result"
    }
   ],
   "source": [
    "grouped[grouped[\"ScaffoldName\"] == \"PureRand501\"]['DesignedSequence'].item()"
   ]
  },
  {
   "cell_type": "code",
   "execution_count": 18,
   "metadata": {},
   "outputs": [
    {
     "data": {
      "text/plain": [
       "array([[<AxesSubplot:title={'center':'Expression'}>]], dtype=object)"
      ]
     },
     "execution_count": 18,
     "metadata": {},
     "output_type": "execute_result"
    },
    {
     "data": {
      "image/png": "[encoded data removed]",
      "text/plain": [
       "<Figure size 432x288 with 1 Axes>"
      ]
     },
     "metadata": {
      "needs_background": "light"
     },
     "output_type": "display_data"
    }
   ],
   "source": [
    "expression_df[expression_df[\"ScaffoldName\"] == \"PureRand501\"].hist(\"Expression\", bins=20)"
   ]
  }
 ],
 "metadata": {
  "kernelspec": {
   "display_name": "Python 3.10.4 64-bit",
   "language": "python",
   "name": "python3"
  },
  "language_info": {
   "codemirror_mode": {
    "name": "ipython",
    "version": 3
   },
   "file_extension": ".py",
   "mimetype": "text/x-python",
   "name": "python",
   "nbconvert_exporter": "python",
   "pygments_lexer": "ipython3",
   "version": "3.10.4"
  },
  "orig_nbformat": 4,
  "vscode": {
   "interpreter": {
    "hash": "fa7c27dc793df5be2edaadabdf154ce9b78714d52aa15f6b4e8ee8c3cd646d7f"
   }
  }
 },
 "nbformat": 4,
 "nbformat_minor": 2
}
